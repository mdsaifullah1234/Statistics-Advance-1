{
 "cells": [
  {
   "cell_type": "markdown",
   "metadata": {},
   "source": [
    "Q1. What is the Probability density function?\n",
    "\n",
    "Answer = The Probability Density Function(PDF) defines the probability function representing the density of a continuous random variable lying between a specific range of values. In other words, the probability density function produces the likelihood of values of the continuous random variable."
   ]
  },
  {
   "cell_type": "markdown",
   "metadata": {},
   "source": [
    "Q2. What are the types of Probability distribution?\n",
    "Answer = Here are some of the most common types of probability distributions:\n",
    "\n",
    "Binomial distribution: The binomial distribution is used to describe the number of successes in a fixed number of independent trials. For example, the number of heads you get when you flip a coin 10 times is a binomial random variable.\n",
    "\n",
    "Normal distribution: The normal distribution, also known as the Gaussian distribution, is a bell-shaped curve that is used to describe many natural phenomena. For example, the heights of people are normally distributed.\n",
    "\n",
    "Poisson distribution: The Poisson distribution is used to describe the number of events that occur in a fixed interval of time or space. For example, the number of traffic accidents that occur on a given highway in a year is a Poisson random variable.\n",
    "\n",
    "Uniform distribution: The uniform distribution is used to describe random variables that are equally likely to take on any value within a certain range. For example, the time it takes for a customer to arrive at a store is a uniformly distributed random variable.\n",
    "\n"
   ]
  },
  {
   "cell_type": "markdown",
   "metadata": {},
   "source": [
    "Q3. Write a Python function to calculate the probability density function of a normal distribution with\n",
    "given mean and standard deviation at a given point.\n",
    "\n"
   ]
  },
  {
   "cell_type": "code",
   "execution_count": 1,
   "metadata": {},
   "outputs": [
    {
     "name": "stdout",
     "output_type": "stream",
     "text": [
      "The PDF at x=1.5 is: 0.12951759566589174\n"
     ]
    }
   ],
   "source": [
    "import math\n",
    "\n",
    "def normal_pdf(x, mean, std_dev):\n",
    "    \"\"\"\n",
    "    Calculate the probability density function (PDF) of a normal distribution at a given point.\n",
    "\n",
    "    Parameters:\n",
    "    - x: The point at which to evaluate the PDF.\n",
    "    - mean: The mean of the normal distribution.\n",
    "    - std_dev: The standard deviation of the normal distribution.\n",
    "\n",
    "    Returns:\n",
    "    The PDF value at the given point.\n",
    "    \"\"\"\n",
    "    coefficient = 1 / (math.sqrt(2 * math.pi) * std_dev)\n",
    "    exponent = -((x - mean) ** 2) / (2 * (std_dev ** 2))\n",
    "    pdf_value = coefficient * math.exp(exponent)\n",
    "    return pdf_value\n",
    "\n",
    "# Example usage:\n",
    "mean_value = 0\n",
    "std_dev_value = 1\n",
    "point = 1.5\n",
    "\n",
    "pdf_at_point = normal_pdf(point, mean_value, std_dev_value)\n",
    "print(f\"The PDF at x={point} is: {pdf_at_point}\")\n"
   ]
  },
  {
   "cell_type": "markdown",
   "metadata": {},
   "source": [
    "Q4. What are the properties of Binomial distribution? Give two examples of events where binomial\n",
    "distribution can be applied.\n",
    "\n",
    "Answer = The binomial distribution is a discrete probability distribution that describes the number of successes in a sequence of independent trials, where each trial has only two possible outcomes, such as success or failure. Here are some of the properties of the binomial distribution:\n",
    "\n",
    "Finite number of trials: The binomial distribution applies to a fixed number of trials, denoted by n. Each trial has two possible outcomes, often labeled as success (S) or failure (F).\n",
    "\n",
    "Independence of trials: The trials are assumed to be independent, meaning that the outcome of one trial does not affect the outcome of any other trial.\n",
    "\n",
    "Constant probability of success: The probability of success (p) remains constant for each trial. This implies that the probability of failure (q) is 1 - p.\n",
    "\n",
    "Discrete outcomes: The outcomes are discrete, meaning that only a finite or countably infinite number of values are possible. In the case of the binomial distribution, the possible outcomes are the number of successes (X) ranging from 0 to n.\n",
    "\n",
    "Here are two examples of events where the binomial distribution can be applied:\n",
    "\n",
    "Flipping a coin: Flipping a coin is a classic example of a binomial experiment. Each flip has two possible outcomes: heads (success) or tails (failure). The probability of success (heads) is p, and the probability of failure (tails) is q = 1 - p. The binomial distribution can be used to calculate the probability of getting a specific number of heads in a given number of flips.\n",
    "\n",
    "Product quality control: In product quality control, a random sample of products is inspected to determine the number of defective items. Each item can be categorized as either defective (success) or non-defective (failure). The probability of a defective item (p) represents the proportion of defective products in the entire batch. The binomial distribution can be used to estimate the probability of finding a certain number of defective items in the sample."
   ]
  },
  {
   "cell_type": "markdown",
   "metadata": {},
   "source": [
    "Q5. Generate a random sample of size 1000 from a binomial distribution with probability of success 0.4\n",
    "and plot a histogram of the results using matplotlib."
   ]
  },
  {
   "cell_type": "code",
   "execution_count": null,
   "metadata": {},
   "outputs": [],
   "source": [
    "import numpy as np\n",
    "import matplotlib.pyplot as plt\n",
    "\n",
    "# Set the parameters for the binomial distribution\n",
    "n = 10  # Number of trials\n",
    "p = 0.4  # Probability of success\n",
    "\n",
    "# Generate a random sample of size 1000 from a binomial distribution\n",
    "random_sample = np.random.binomial(n, p, size=1000)\n",
    "\n",
    "# Plot the histogram\n",
    "plt.hist(random_sample, bins=np.arange(0, n+2)-0.5, edgecolor='black')\n",
    "plt.title('Binomial Distribution - Random Sample')\n",
    "plt.xlabel('Number of Successes')\n",
    "plt.ylabel('Frequency')\n",
    "plt.grid(axis='y', linestyle='--', alpha=0.7)\n",
    "plt.show()\n"
   ]
  },
  {
   "cell_type": "markdown",
   "metadata": {},
   "source": [
    "Q6. Write a Python function to calculate the cumulative distribution function of a Poisson distribution\n",
    "with given mean at a given point."
   ]
  },
  {
   "cell_type": "code",
   "execution_count": null,
   "metadata": {},
   "outputs": [],
   "source": [
    "import math\n",
    "\n",
    "def poisson_cdf(k, mean):\n",
    "    \"\"\"\n",
    "    Calculate the cumulative distribution function (CDF) of a Poisson distribution at a given point.\n",
    "\n",
    "    Parameters:\n",
    "    - k: The point at which to evaluate the CDF.\n",
    "    - mean: The mean of the Poisson distribution.\n",
    "\n",
    "    Returns:\n",
    "    The CDF value at the given point.\n",
    "    \"\"\"\n",
    "    cdf_value = 0\n",
    "    for i in range(k + 1):\n",
    "        cdf_value += math.exp(-mean) * (mean ** i) / math.factorial(i)\n",
    "    return cdf_value\n",
    "\n",
    "# Example usage:\n",
    "mean_value = 2\n",
    "point = 3\n",
    "\n",
    "cdf_at_point = poisson_cdf(point, mean_value)\n",
    "print(f\"The CDF at k={point} is: {cdf_at_point}\")\n"
   ]
  },
  {
   "cell_type": "markdown",
   "metadata": {},
   "source": [
    "Q7. How Binomial distribution different from Poisson distribution?\n",
    "\n",
    "\n",
    "Answer = The Binomial distribution and the Poisson distribution are both probability distributions used to model the number of successes in a fixed number of trials. However, there are key differences between the two:\n",
    "\n",
    "Nature of the Process:\n",
    "\n",
    "Binomial Distribution: It is used to model the number of successes in a fixed number of independent and identical Bernoulli trials, where each trial has only two possible outcomes (success or failure).\n",
    "Poisson Distribution: It is used to model the number of events that occur in a fixed interval of time or space. It is often applied when the number of trials is not fixed, and the events occur independently with a low probability of success.\n",
    "Number of Trials:\n",
    "\n",
    "Binomial Distribution: The number of trials (\n",
    "\n",
    "n) is fixed and known in advance.\n",
    "Poisson Distribution: The number of trials is not fixed and can vary. It is often used in situations where the average rate of events per unit of time or space is known (\n",
    "\n",
    "λ), and we are interested in the number of events occurring in a specific interval.\n",
    "Probability of Success:\n",
    "\n",
    "Binomial Distribution: The probability of success (\n",
    "\n",
    "p) is constant for each trial.\n",
    "Poisson Distribution: The probability of success is low, but as the number of trials becomes large and the product \n",
    "\n",
    "n⋅p remains constant, it approximates the Poisson distribution.\n",
    "Distribution Function:\n",
    "\n",
    "Binomial Distribution: The probability mass function (PMF) is given by the binomial coefficient and is defined for discrete values of the number of successes.\n",
    "Poisson Distribution: The probability mass function is given by the Poisson formula and is also defined for discrete values.\n",
    "Conditions for Use:\n",
    "\n",
    "Binomial Distribution: It is suitable when there is a fixed number of trials, each with a constant probability of success, and the trials are independent.\n",
    "Poisson Distribution: It is suitable when the number of trials is not fixed, the events are rare, and the probability of success in each trial is small."
   ]
  },
  {
   "cell_type": "markdown",
   "metadata": {},
   "source": [
    "Q8. Generate a random sample of size 1000 from a Poisson distribution with mean 5 and calculate the\n",
    "sample mean and variance."
   ]
  },
  {
   "cell_type": "code",
   "execution_count": null,
   "metadata": {},
   "outputs": [],
   "source": [
    "import numpy as np\n",
    "\n",
    "# Set the parameters for the Poisson distribution\n",
    "mean_value = 5\n",
    "\n",
    "# Generate a random sample of size 1000 from a Poisson distribution\n",
    "random_sample = np.random.poisson(mean_value, size=1000)\n",
    "\n",
    "# Calculate the sample mean and variance\n",
    "sample_mean = np.mean(random_sample)\n",
    "sample_variance = np.var(random_sample)\n",
    "\n",
    "# Print the results\n",
    "print(f\"Sample Mean: {sample_mean}\")\n",
    "print(f\"Sample Variance: {sample_variance}\")\n"
   ]
  },
  {
   "cell_type": "markdown",
   "metadata": {},
   "source": [
    "Q9. How mean and variance are related in Binomial distribution and Poisson distribution?\n",
    "\n",
    "Answer =  In both the Binomial and Poisson distributions, the mean and variance are closely related.\n",
    "\n",
    "Binomial Distribution\n",
    "\n",
    "In the Binomial distribution, the mean (µ) and variance (σ²) are given by the following formulas:\n",
    "\n",
    "µ = np\n",
    "\n",
    "σ² = npq\n",
    "\n",
    "where:\n",
    "\n",
    "n is the number of trials\n",
    "p is the probability of success\n",
    "q is the probability of failure (q = 1 - p)\n",
    "This means that the mean and variance of the Binomial distribution are directly proportional to each other. In other words, as the mean increases, the variance also increases. This is because the Binomial distribution is a discrete distribution, and the number of possible outcomes increases as the number of trials increases.\n",
    "\n",
    "Poisson Distribution\n",
    "\n",
    "In the Poisson distribution, the mean (µ) and variance (σ²) are also closely related, and they are given by the following formulas:\n",
    "\n",
    "µ = λ\n",
    "\n",
    "σ² = λ\n",
    "\n",
    "where:\n",
    "\n",
    "λ is the average number of events per unit time or space\n",
    "This means that the mean and variance of the Poisson distribution are equal. This is because the Poisson distribution is a continuous distribution, and the number of possible outcomes is infinite.\n",
    "\n",
    "Comparison\n",
    "\n",
    "The relationship between the mean and variance is different for the Binomial and Poisson distributions. In the Binomial distribution, the variance is always greater than the mean. In the Poisson distribution, the variance is equal to the mean. This is because the Binomial distribution is a discrete distribution, while the Poisson distribution is a continuous distribution.\n",
    "\n",
    "Here is a table summarizing the relationship between the mean and variance for the Binomial and Poisson distributions:\n",
    "\n",
    "\n"
   ]
  },
  {
   "cell_type": "markdown",
   "metadata": {},
   "source": [
    "Q10. In normal distribution with respect to mean position, where does the least frequent data appear?\n",
    "\n",
    "Answer = In a normal distribution, also known as a Gaussian distribution or bell curve, the least frequent data points appear in the tails of the distribution. The normal distribution is symmetric, meaning that the shape of the distribution is the same on both sides of the mean.\n",
    "\n",
    "Here's how the data distribution is typically organized in a normal distribution:\n",
    "\n",
    "The highest frequency of data points is at the mean of the distribution.\n",
    "As you move away from the mean in either direction, the frequency of data points gradually decreases.\n",
    "The least frequent data points are found in the tails of the distribution, farthest from the mean.\n",
    "In a standard normal distribution (with a mean of 0 and a standard deviation of 1), approximately 68% of the data falls within one standard deviation of the mean, 95% within two standard deviations, and 99.7% within three standard deviations. Therefore, the data points in the tails, beyond three standard deviations from the mean, are relatively rare and make up only a small percentage of the distribution.\n"
   ]
  }
 ],
 "metadata": {
  "kernelspec": {
   "display_name": "Python 3",
   "language": "python",
   "name": "python3"
  },
  "language_info": {
   "codemirror_mode": {
    "name": "ipython",
    "version": 3
   },
   "file_extension": ".py",
   "mimetype": "text/x-python",
   "name": "python",
   "nbconvert_exporter": "python",
   "pygments_lexer": "ipython3",
   "version": "3.8.10"
  }
 },
 "nbformat": 4,
 "nbformat_minor": 2
}
